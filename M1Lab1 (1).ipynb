{
  "nbformat": 4,
  "nbformat_minor": 0,
  "metadata": {
    "colab": {
      "provenance": [],
      "toc_visible": true
    },
    "kernelspec": {
      "name": "python3",
      "display_name": "Python 3"
    },
    "language_info": {
      "name": "python"
    }
  },
  "cells": [
    {
      "cell_type": "markdown",
      "metadata": {
        "id": "cnAUJprJdh9_"
      },
      "source": [
        "# Welcome to our first Lab Practice!"
      ]
    },
    {
      "cell_type": "markdown",
      "metadata": {
        "id": "vVYcayGedmms"
      },
      "source": [
        "This lab is all about print() and we are going to print various messages on the screen. Are you ready? Let's get started!"
      ]
    },
    {
      "cell_type": "markdown",
      "metadata": {
        "id": "JP8eGBVyeSQx"
      },
      "source": [
        "You will find some small tasks in sections below. You should use print() and a proper choice of quotation marks to print the **message** on the screen."
      ]
    },
    {
      "cell_type": "markdown",
      "metadata": {
        "id": "TNbXeCDFeAcJ"
      },
      "source": [
        "## Single quotations ' '"
      ]
    },
    {
      "cell_type": "markdown",
      "metadata": {
        "id": "EZ42d1Sue0Zp"
      },
      "source": [
        "###Task: print message **Hello, world!**"
      ]
    },
    {
      "cell_type": "code",
      "metadata": {
        "id": "yDzNIHsSeu85",
        "colab": {
          "base_uri": "https://localhost:8080/"
        },
        "outputId": "09373bee-2b6d-4c1b-cf34-aa19d6fed2ad"
      },
      "source": [
        "# type your code here\n",
        "print('Hello, world!')\n"
      ],
      "execution_count": 1,
      "outputs": [
        {
          "output_type": "stream",
          "name": "stdout",
          "text": [
            "Hello, world!\n"
          ]
        }
      ]
    },
    {
      "cell_type": "markdown",
      "metadata": {
        "id": "-__o8ovbfSEH"
      },
      "source": [
        "###Task: print message **\"Hello, world!\"**\n",
        "\n",
        "Note: the **\" \"** is part of the message and it should be included in the message printed out."
      ]
    },
    {
      "cell_type": "code",
      "metadata": {
        "id": "hOpxhSKog18Y",
        "colab": {
          "base_uri": "https://localhost:8080/"
        },
        "outputId": "1ae8a06b-d89d-4f0d-9973-b14c6bbbfccc"
      },
      "source": [
        "# your code will be here\n",
        "print('\"Hello, world!\"')\n"
      ],
      "execution_count": 2,
      "outputs": [
        {
          "output_type": "stream",
          "name": "stdout",
          "text": [
            "\"Hello, world!\"\n"
          ]
        }
      ]
    },
    {
      "cell_type": "markdown",
      "metadata": {
        "id": "NpCNxK68gpME"
      },
      "source": [
        "###Task: print message **\"How are you?\"**\n",
        "\n",
        "Note: the **\" \"** is part of the message and it should be included in the message printed out."
      ]
    },
    {
      "cell_type": "code",
      "metadata": {
        "id": "txg-7uKfgKeW",
        "colab": {
          "base_uri": "https://localhost:8080/"
        },
        "outputId": "f4ffbba1-0d36-4e36-a642-679c7587b8eb"
      },
      "source": [
        "# your code will be here\n",
        "print('\"How are you?\"')\n"
      ],
      "execution_count": 3,
      "outputs": [
        {
          "output_type": "stream",
          "name": "stdout",
          "text": [
            "\"How are you?\"\n"
          ]
        }
      ]
    },
    {
      "cell_type": "markdown",
      "metadata": {
        "id": "D8pWdoN7d6Dy"
      },
      "source": [
        "## Double quotations \" \""
      ]
    },
    {
      "cell_type": "markdown",
      "metadata": {
        "id": "rXgbUIBRgQoG"
      },
      "source": [
        "###Task: print message **Hello, world!** (using \" \")"
      ]
    },
    {
      "cell_type": "code",
      "metadata": {
        "id": "oIKwmW2mfe3d",
        "colab": {
          "base_uri": "https://localhost:8080/"
        },
        "outputId": "e017af23-5ffb-45e2-f9fb-9bc694759e69"
      },
      "source": [
        "# your code will be here\n",
        "# your code will be here\n",
        "print(\"Hello, world!\")\n",
        "\n"
      ],
      "execution_count": 5,
      "outputs": [
        {
          "output_type": "stream",
          "name": "stdout",
          "text": [
            "Hello, world!\n"
          ]
        }
      ]
    },
    {
      "cell_type": "markdown",
      "metadata": {
        "id": "QPoCScdkheK3"
      },
      "source": [
        "###Task: print message **I'm fine.**"
      ]
    },
    {
      "cell_type": "code",
      "metadata": {
        "id": "tsFowDAKhJCB",
        "colab": {
          "base_uri": "https://localhost:8080/"
        },
        "outputId": "c853121d-51fc-4b9b-9ed3-f857a7129d0d"
      },
      "source": [
        "# your code will be here\n",
        "print(\"I'm fine.\")\n"
      ],
      "execution_count": 6,
      "outputs": [
        {
          "output_type": "stream",
          "name": "stdout",
          "text": [
            "I'm fine.\n"
          ]
        }
      ]
    },
    {
      "cell_type": "markdown",
      "metadata": {
        "id": "TE6Df1WYhu10"
      },
      "source": [
        "###Task: print message **It's a great day!**"
      ]
    },
    {
      "cell_type": "code",
      "metadata": {
        "id": "MSjQbhNXhJVV",
        "colab": {
          "base_uri": "https://localhost:8080/"
        },
        "outputId": "7f5155c2-9bce-4730-b14b-fc813e7b1dff"
      },
      "source": [
        "# your code will be here\n",
        "print(\"It's a great day!\")\n"
      ],
      "execution_count": 7,
      "outputs": [
        {
          "output_type": "stream",
          "name": "stdout",
          "text": [
            "It's a great day!\n"
          ]
        }
      ]
    },
    {
      "cell_type": "markdown",
      "metadata": {
        "id": "0dZCPuYjeDqi"
      },
      "source": [
        "## Triple quotations ''' '''"
      ]
    },
    {
      "cell_type": "markdown",
      "metadata": {
        "id": "f-zusksziv_N"
      },
      "source": [
        "###Task: print the poem below\n",
        "\n",
        "**This**\n",
        "\n",
        "**is**\n",
        "\n",
        "**a**\n",
        "\n",
        "**poem**"
      ]
    },
    {
      "cell_type": "markdown",
      "metadata": {
        "id": "yls-7KE6kA7o"
      },
      "source": [
        "###Task: print the paragraph below\n",
        "\n",
        "**This is a multi-line**\n",
        "\n",
        "**documentary. It consists**\n",
        "\n",
        "**several sentences and**\n",
        "\n",
        "**might be pages long.**"
      ]
    },
    {
      "cell_type": "code",
      "metadata": {
        "id": "ZZ1XEd29kAIR",
        "colab": {
          "base_uri": "https://localhost:8080/"
        },
        "outputId": "42e707ae-2d76-450b-d796-da4eb182c38f"
      },
      "source": [
        "# your code will be here\n",
        "print('''This\n",
        "\n",
        "is\n",
        "\n",
        "a\n",
        "\n",
        "poem''')\n",
        "\n"
      ],
      "execution_count": 12,
      "outputs": [
        {
          "output_type": "stream",
          "name": "stdout",
          "text": [
            "This\n",
            "\n",
            "is\n",
            "\n",
            "a\n",
            "\n",
            "poem\n"
          ]
        }
      ]
    },
    {
      "cell_type": "markdown",
      "metadata": {
        "id": "DsOakqGCeK7V"
      },
      "source": [
        "## Combinations of quotations"
      ]
    },
    {
      "cell_type": "markdown",
      "metadata": {
        "id": "4iCITSR6h7Yv"
      },
      "source": [
        "###Task: print the dialog below\n",
        "\n",
        "**\"How are you?\"**\n",
        "\n",
        "**\"I'm fine.\"**\n",
        "\n",
        "**\"It's a great day!\"**"
      ]
    },
    {
      "cell_type": "code",
      "metadata": {
        "id": "EKsuK9O6jW7D",
        "colab": {
          "base_uri": "https://localhost:8080/"
        },
        "outputId": "547ffbef-f147-4890-ff5f-44ce2b863abc"
      },
      "source": [
        "# your code will be here\n",
        "print('''This is a multi-line\n",
        "\n",
        "documentary. It consists\n",
        "\n",
        "several sentences and\n",
        "\n",
        "might be pages long.''')\n"
      ],
      "execution_count": 13,
      "outputs": [
        {
          "output_type": "stream",
          "name": "stdout",
          "text": [
            "This is a multi-line\n",
            "\n",
            "documentary. It consists\n",
            "\n",
            "several sentences and\n",
            "\n",
            "might be pages long.\n"
          ]
        }
      ]
    }
  ]
}