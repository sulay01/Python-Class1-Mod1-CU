{
  "nbformat": 4,
  "nbformat_minor": 0,
  "metadata": {
    "colab": {
      "provenance": []
    },
    "kernelspec": {
      "name": "python3",
      "display_name": "Python 3"
    },
    "language_info": {
      "name": "python"
    }
  },
  "cells": [
    {
      "cell_type": "code",
      "execution_count": null,
      "metadata": {
        "colab": {
          "base_uri": "https://localhost:8080/"
        },
        "id": "VnnPg5g-MbbB",
        "outputId": "5e44758b-a882-46c1-8ae3-e8223412e70c"
      },
      "outputs": [
        {
          "output_type": "stream",
          "name": "stdout",
          "text": [
            "Please enter a number:0\n",
            "Absolute value of x is: 0.0\n"
          ]
        }
      ],
      "source": [
        "# computer the absolute value\n",
        "\n",
        "x=float(input('Please enter a number:'))\n",
        "\n",
        "if x < 0:\n",
        "  x = -x\n",
        "print ('Absolute value of x is:', x)"
      ]
    },
    {
      "cell_type": "code",
      "source": [
        "# even or odd checking\n",
        "\n",
        "x=int(input('Pleasae enter a positive interger:'))\n",
        "\n",
        "if x % 2 == 0:\n",
        "  print (x, 'is even')\n",
        "else:\n",
        "  print (x, 'is odd')"
      ],
      "metadata": {
        "colab": {
          "base_uri": "https://localhost:8080/"
        },
        "id": "x3M3rZfgYU7m",
        "outputId": "ac35c8e3-b14f-46d1-860c-0eddfd65c09e"
      },
      "execution_count": null,
      "outputs": [
        {
          "output_type": "stream",
          "name": "stdout",
          "text": [
            "Pleasae enter a positive interger:3\n",
            "3 is odd\n"
          ]
        }
      ]
    },
    {
      "cell_type": "code",
      "source": [
        "x=int(input('Please enter a positive interger:'))\n",
        "\n",
        "if x % 2 == 0:\n",
        "  print (x, 'is even')\n",
        "else:\n",
        "  print (x, 'is odd')\n"
      ],
      "metadata": {
        "colab": {
          "base_uri": "https://localhost:8080/"
        },
        "id": "ZnSs3a4Zanpt",
        "outputId": "594cc05c-2e3d-4260-d66a-c178cc99382b"
      },
      "execution_count": null,
      "outputs": [
        {
          "output_type": "stream",
          "name": "stdout",
          "text": [
            "Please enter a positive interger:6\n",
            "6 is even\n"
          ]
        }
      ]
    },
    {
      "cell_type": "code",
      "source": [
        "# prime in 10 (1, 2, 3, 5, 7)\n",
        "\n",
        "x=int(input('Please enter a positive interger within 10:'))\n",
        "\n",
        "if x == 1:\n",
        "  print (x, 'is not a prime')\n",
        "elif x == 2:\n",
        "  print (x, 'is a prime')\n",
        "elif x == 3:\n",
        "  print (x, 'is a prime')\n",
        "elif x == 5:\n",
        "  print (x, 'is a prime')\n",
        "elif x == 7:\n",
        "  print (x, 'is a prime')\n",
        "else:\n",
        "  print (x, 'is not a prime')\n",
        "\n",
        "\n",
        "\n"
      ],
      "metadata": {
        "id": "Ftf6PGF3YVsX"
      },
      "execution_count": null,
      "outputs": []
    },
    {
      "cell_type": "code",
      "source": [
        "# prime in 10 (1, 2, 3, 5, 7)\n",
        "\n",
        "x=int(input('Please enter a positive interger within 10:'))\n",
        "\n",
        "if x == 1 or x == 2 or x == 3 or x == 5 or x == 7:\n",
        "  print (x, 'is a prime')\n",
        "else:\n",
        "  print (x, 'is not a prime')"
      ],
      "metadata": {
        "colab": {
          "base_uri": "https://localhost:8080/"
        },
        "id": "QwKvv3TdsBvZ",
        "outputId": "a96e458c-cc0a-485e-b859-dac299031a4a"
      },
      "execution_count": null,
      "outputs": [
        {
          "output_type": "stream",
          "name": "stdout",
          "text": [
            "Please enter a positive interger within 10:8\n",
            "8 is not a prime\n"
          ]
        }
      ]
    },
    {
      "cell_type": "code",
      "source": [
        "# prime in 10 (1, 2, 3, 5, 7)\n",
        "\n",
        "x=int(input('Please enter a positive interger within 10:'))\n",
        "\n",
        "if x == 1 or x == 2 or x == 3 or x == 5 or x == 7:\n",
        "  print (x, 'is a prime')\n",
        "else:\n",
        "  print (x, 'is not a prime')"
      ],
      "metadata": {
        "colab": {
          "base_uri": "https://localhost:8080/"
        },
        "id": "QOOuzpDMuLmG",
        "outputId": "500c21cc-d4cf-48c1-c0c7-d4e1f7169ea8"
      },
      "execution_count": null,
      "outputs": [
        {
          "output_type": "stream",
          "name": "stdout",
          "text": [
            "Please enter a positive interger within 10:7\n",
            "7 is a prime\n"
          ]
        }
      ]
    },
    {
      "cell_type": "code",
      "source": [
        "# Hiking? If temp > 80 it is too hot, if temp < 60 it is too cold.\n",
        "\n",
        "temp = float (input('Please enter the temperature of today:'))\n",
        "\n",
        "if temp > 80:\n",
        "  print ('No! It is too hot')\n",
        "elif temp < 60:\n",
        "  print ('No! It is too cold')\n",
        "else:\n",
        "  print ('Perfect! Let\\s go!')"
      ],
      "metadata": {
        "id": "FoYpHqIBYWXh",
        "colab": {
          "base_uri": "https://localhost:8080/"
        },
        "outputId": "4e746840-2270-4fde-f0cc-16ef9cd52a84"
      },
      "execution_count": 1,
      "outputs": [
        {
          "output_type": "stream",
          "name": "stdout",
          "text": [
            "Please enter the temperature of today:70\n",
            "Perfect! Let\\s go!\n"
          ]
        }
      ]
    },
    {
      "cell_type": "code",
      "source": [
        "# Letter Grade A,B,C,D,F are corresponding to [90,100], [80,89], [70,79], [60,69], [0,59]\n",
        "\n",
        "points = float(input('Please enter the point of the student [0,100]:'))\n",
        "\n",
        "if points >= 90:\n",
        "  print ('A')\n",
        "elif points >= 80:\n",
        "  print ('B')\n",
        "elif points >= 70:\n",
        "  print ('C')\n",
        "elif points >= 60:\n",
        "  print ('D')\n",
        "else:\n",
        "  print ('F')\n",
        ""
      ],
      "metadata": {
        "id": "-HnjwQjbY7VH",
        "colab": {
          "base_uri": "https://localhost:8080/"
        },
        "outputId": "553f705c-2178-424b-a961-1590b29182f0"
      },
      "execution_count": 4,
      "outputs": [
        {
          "output_type": "stream",
          "name": "stdout",
          "text": [
            "Please enter the point of the student [0,100]:91\n",
            "A\n"
          ]
        }
      ]
    }
  ]
}