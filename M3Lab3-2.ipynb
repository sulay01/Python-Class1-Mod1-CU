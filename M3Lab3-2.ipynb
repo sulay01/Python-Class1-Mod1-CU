{
  "nbformat": 4,
  "nbformat_minor": 0,
  "metadata": {
    "colab": {
      "provenance": [],
      "toc_visible": true
    },
    "kernelspec": {
      "name": "python3",
      "display_name": "Python 3"
    },
    "language_info": {
      "name": "python"
    }
  },
  "cells": [
    {
      "cell_type": "markdown",
      "metadata": {
        "id": "cnAUJprJdh9_"
      },
      "source": [
        "# Welcome to our Lab Practice!"
      ]
    },
    {
      "cell_type": "markdown",
      "metadata": {
        "id": "vVYcayGedmms"
      },
      "source": [
        "This lab is about branching - if-elif-else statements. Are you ready? Let's get started!"
      ]
    },
    {
      "cell_type": "markdown",
      "metadata": {
        "id": "JP8eGBVyeSQx"
      },
      "source": [
        "You will find some small tasks in sections below."
      ]
    },
    {
      "cell_type": "markdown",
      "metadata": {
        "id": "EZ42d1Sue0Zp"
      },
      "source": [
        "###Task: check if a number is positive, negative, or 0.\n",
        "\n",
        "You should ask the user to enter a number, if it is above 0, print \"It is positive\"; if it is below 0, print \"It is negative\"; otherwise, print \"It is zero\"."
      ]
    },
    {
      "cell_type": "code",
      "metadata": {
        "id": "yDzNIHsSeu85",
        "colab": {
          "base_uri": "https://localhost:8080/"
        },
        "outputId": "eb2edc1f-7c5e-4baa-c5c1-9234dabba92a"
      },
      "source": [
        "# Ask the user to enter a number and determine if it's positive, negative, or zero\n",
        "num = float(input(\"Enter a number: \"))\n",
        "\n",
        "if num > 0:\n",
        "    print(\"It is positive\")\n",
        "elif num < 0:\n",
        "    print(\"It is negative\")\n",
        "else:\n",
        "    print(\"It is zero\")\n"
      ],
      "execution_count": 1,
      "outputs": [
        {
          "output_type": "stream",
          "name": "stdout",
          "text": [
            "Enter a number: -7\n",
            "It is negative\n"
          ]
        }
      ]
    },
    {
      "cell_type": "markdown",
      "metadata": {
        "id": "u8WEYfEqIbWX"
      },
      "source": [
        "###Task: check how many days current month has.\n",
        "\n",
        "You should ask the user to enter the number indicating the current month, such as 1 as Janurary; then print the days the month has, such as print 31 if the user entered 1. Let's assume there are 28 days in February."
      ]
    },
    {
      "cell_type": "code",
      "metadata": {
        "id": "LKSmcHRRJUYY",
        "colab": {
          "base_uri": "https://localhost:8080/"
        },
        "outputId": "ce029c49-2c4b-41c6-a5ee-9a39d6d4e157"
      },
      "source": [
        "# Ask the user to enter a month number and return the number of days in that month\n",
        "month = int(input(\"Enter the month number (1-12): \"))\n",
        "\n",
        "if month in [1, 3, 5, 7, 8, 10, 12]:\n",
        "    print(\"31 days\")\n",
        "elif month in [4, 6, 9, 11]:\n",
        "    print(\"30 days\")\n",
        "elif month == 2:\n",
        "    print(\"28 days\")  # Assuming non-leap year\n",
        "else:\n",
        "    print(\"Invalid month number. Please enter a number between 1 and 12.\")\n"
      ],
      "execution_count": 2,
      "outputs": [
        {
          "output_type": "stream",
          "name": "stdout",
          "text": [
            "Enter the month number (1-12): 2\n",
            "28 days\n"
          ]
        }
      ]
    },
    {
      "cell_type": "markdown",
      "metadata": {
        "id": "-__o8ovbfSEH"
      },
      "source": [
        "###Task: collect parking fee\n",
        "\n",
        "A parking garage has following price policy\n",
        "\n",
        "\n",
        "1.   first half hour: 5\n",
        "2.   second half hour to 2 hours: 15\n",
        "3.   more than 2 hours: 5 per hour\n",
        "\n",
        "Ask the user to enter the hours of parking (it should be a float number, such as 1.6 as 1.6 hours), and calculate the parking fee.\n",
        "\n"
      ]
    },
    {
      "cell_type": "code",
      "metadata": {
        "id": "hOpxhSKog18Y",
        "colab": {
          "base_uri": "https://localhost:8080/"
        },
        "outputId": "d367acd5-c15c-4424-b5a2-818de90389bf"
      },
      "source": [
        "# Calculate parking fee based on the given pricing policy\n",
        "hours = float(input(\"Enter the hours parked: \"))\n",
        "\n",
        "if hours <= 0.5:\n",
        "    fee = 5\n",
        "elif hours <= 2:\n",
        "    fee = 15\n",
        "else:\n",
        "    fee = 15 + (hours - 2) * 5  # Additional charge of $5 per extra hour\n",
        "\n",
        "print(f\"Parking fee: ${fee:.2f}\")\n"
      ],
      "execution_count": 3,
      "outputs": [
        {
          "output_type": "stream",
          "name": "stdout",
          "text": [
            "Enter the hours parked: 3.5\n",
            "Parking fee: $22.50\n"
          ]
        }
      ]
    },
    {
      "cell_type": "markdown",
      "metadata": {
        "id": "uZYVZQIvIlPy"
      },
      "source": [
        "###Task: What stage are you in?  \n",
        "\n",
        "Write a program that asks the user to enter a person’s age. The program should display a message indicating whether the person is an infant, a child, a teenager, an adult, or a senior citizen.\n",
        "\n",
        "Following are the guidelines:\n",
        "1.   If the person is 1 year old or less, he or she is an infant.\n",
        "1.   If the person is older than 1 year, but younger than 13 years, he or she is a child.\n",
        "1.   If the person is at least 13 years old, but less than 20 years old, he or she is a teenager.\n",
        "1.   If the person is at least 20 years old, but less than 65 years old, he or she is an adult.\n",
        "1.   Otherwise the person is a senior citizen."
      ]
    },
    {
      "cell_type": "code",
      "metadata": {
        "id": "Y_3dcyvcQ2GI",
        "colab": {
          "base_uri": "https://localhost:8080/"
        },
        "outputId": "3b94af5c-acd3-42dd-ee6d-0458ba298854"
      },
      "source": [
        "# Determine the life stage based on the person's age\n",
        "age = int(input(\"Enter the person's age: \"))\n",
        "\n",
        "if age <= 1:\n",
        "    stage = \"infant\"\n",
        "elif age < 13:\n",
        "    stage = \"child\"\n",
        "elif age < 20:\n",
        "    stage = \"teenager\"\n",
        "elif age < 65:\n",
        "    stage = \"adult\"\n",
        "else:\n",
        "    stage = \"senior citizen\"\n",
        "\n",
        "print(f\"The person is a {stage}.\")\n"
      ],
      "execution_count": 4,
      "outputs": [
        {
          "output_type": "stream",
          "name": "stdout",
          "text": [
            "Enter the person's age: 25\n",
            "The person is a adult.\n"
          ]
        }
      ]
    }
  ]
}