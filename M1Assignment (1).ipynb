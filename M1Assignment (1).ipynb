{
  "nbformat": 4,
  "nbformat_minor": 0,
  "metadata": {
    "colab": {
      "provenance": []
    },
    "kernelspec": {
      "name": "python3",
      "display_name": "Python 3"
    },
    "language_info": {
      "name": "python"
    }
  },
  "cells": [
    {
      "cell_type": "markdown",
      "metadata": {
        "id": "cnAUJprJdh9_"
      },
      "source": [
        "# Welcome to our first assignment!"
      ]
    },
    {
      "cell_type": "markdown",
      "metadata": {
        "id": "vVYcayGedmms"
      },
      "source": [
        "This assignment is about testing your understanding of **print()** and **input()**. We are going to create some interactive programs using these two simple tools. Are you ready? Let's get started!"
      ]
    },
    {
      "cell_type": "markdown",
      "metadata": {
        "id": "JP8eGBVyeSQx"
      },
      "source": [
        "You will find some small tasks in sections below. You should use input() to get the user to enter the information and use print() to print the information on the screen."
      ]
    },
    {
      "cell_type": "markdown",
      "metadata": {
        "id": "TNbXeCDFeAcJ"
      },
      "source": [
        "## Prepare a document"
      ]
    },
    {
      "cell_type": "markdown",
      "metadata": {
        "id": "EZ42d1Sue0Zp"
      },
      "source": [
        "###Instruction: You are going to print a document on the screen. The document is a template, which has {} as place holder and should get inputs from the user. Let's get it done step by step.\n",
        "\n",
        "You should use multiple input() to get the information from the user.\n",
        "\n",
        "The template is as below:\n",
        "\n",
        "Dear **{receiver's name}**:\n",
        "\n",
        "This is **{your first name}**. I'm writing to let you know that the weather in **{your location}** is fantastic!\n",
        "\n",
        "I'm taking Python for Data Science course. I have coded **{#}** programs and the expereince was fun! Join me if you are interested!\n",
        "\n",
        "Sincerely,\n",
        "\n",
        "**{your full name}**\n",
        "\n",
        "**{date}**"
      ]
    },
    {
      "cell_type": "markdown",
      "metadata": {
        "id": "DyQ1h_lc-GPr"
      },
      "source": [
        "Step1: Get receiver's name, and print line 1:\n",
        "\n",
        "Dear **{receiver's name}**:"
      ]
    },
    {
      "cell_type": "code",
      "metadata": {
        "id": "TQXvwhRN-E5y",
        "colab": {
          "base_uri": "https://localhost:8080/"
        },
        "outputId": "a5c7d753-1c99-4a21-dc7c-0987313e74da"
      },
      "source": [
        "# Enter your code here\n",
        "receiver_name = input(\"Enter the receiver's name: \")\n",
        "print(f\"Dear {receiver_name}:\")\n"
      ],
      "execution_count": 1,
      "outputs": [
        {
          "output_type": "stream",
          "name": "stdout",
          "text": [
            "Enter the receiver's name: Samme\n",
            "Dear Samme:\n"
          ]
        }
      ]
    },
    {
      "cell_type": "markdown",
      "metadata": {
        "id": "qTOkvVoP-iIC"
      },
      "source": [
        "Step2: Get your first name, your location and print line 2:\n",
        "\n",
        "This is **{your first name}**. I'm writing to let you know that the weather in **{your location}** is fantastic!"
      ]
    },
    {
      "cell_type": "code",
      "metadata": {
        "id": "28aI1cPg-bhz",
        "colab": {
          "base_uri": "https://localhost:8080/"
        },
        "outputId": "55f73228-8891-419e-b9e2-74470cbf963b"
      },
      "source": [
        "# Enter your code here\n",
        "first_name = \"Sulay\"  # You can use your predefined name or ask for input\n",
        "location = \"USA\"  # You can use your predefined location or ask for input\n",
        "print(f\"This is {first_name}. I'm writing to let you know that the weather in {location} is fantastic!\")\n"
      ],
      "execution_count": 2,
      "outputs": [
        {
          "output_type": "stream",
          "name": "stdout",
          "text": [
            "This is Sulay. I'm writing to let you know that the weather in USA is fantastic!\n"
          ]
        }
      ]
    },
    {
      "cell_type": "markdown",
      "metadata": {
        "id": "EJvVv9Ru-uQb"
      },
      "source": [
        "Step3: Get the number of programs you have practiced, and print line 3:\n",
        "\n",
        "I'm taking Python for Data Science course. I have coded **{# of programs}** programs and the expereince was fun! Join me if you are interested!"
      ]
    },
    {
      "cell_type": "code",
      "metadata": {
        "id": "A_KiRedV-b-R",
        "colab": {
          "base_uri": "https://localhost:8080/"
        },
        "outputId": "88c635b9-a01e-46e6-95d0-35c4bcbe7396"
      },
      "source": [
        "# Enter your code here\n",
        "num_programs = input(\"How many programs have you coded? \")\n",
        "print(f\"I'm taking Python for Data Science course. I have coded {num_programs} programs and the experience was fun! Join me if you are interested!\")\n"
      ],
      "execution_count": 3,
      "outputs": [
        {
          "output_type": "stream",
          "name": "stdout",
          "text": [
            "How many programs have you coded? a few.\n",
            "I'm taking Python for Data Science course. I have coded a few. programs and the experience was fun! Join me if you are interested!\n"
          ]
        }
      ]
    },
    {
      "cell_type": "markdown",
      "metadata": {
        "id": "Vcorzmiw--mY"
      },
      "source": [
        "Step 4: print line 4:\n",
        "\n",
        "Sincerely,"
      ]
    },
    {
      "cell_type": "code",
      "metadata": {
        "id": "D5ecQStI-cLa",
        "colab": {
          "base_uri": "https://localhost:8080/"
        },
        "outputId": "d4491a79-46b3-44ae-9e23-909926a0a8af"
      },
      "source": [
        "# Enter your code here\n",
        "print(\"Sincerely,\")\n"
      ],
      "execution_count": 4,
      "outputs": [
        {
          "output_type": "stream",
          "name": "stdout",
          "text": [
            "Sincerely,\n"
          ]
        }
      ]
    },
    {
      "cell_type": "markdown",
      "metadata": {
        "id": "G30-dTVm_K8x"
      },
      "source": [
        "Step 5: Get your full name and print line 5:\n",
        "\n",
        "**{your full name}**"
      ]
    },
    {
      "cell_type": "code",
      "metadata": {
        "id": "944wmoQl_S_K",
        "colab": {
          "base_uri": "https://localhost:8080/"
        },
        "outputId": "5f365cc1-46f9-4edc-9941-4e28f2e232a9"
      },
      "source": [
        "# Enter your code here\n",
        "full_name = input(\"Enter your full name: \")\n",
        "print(full_name)\n"
      ],
      "execution_count": 5,
      "outputs": [
        {
          "output_type": "stream",
          "name": "stdout",
          "text": [
            "Enter your full name: Sulay Cay\n",
            "Sulay Cay\n"
          ]
        }
      ]
    },
    {
      "cell_type": "markdown",
      "metadata": {
        "id": "3i-SsAvT_BT6"
      },
      "source": [
        "Step 6: Get today's date and print line 6:\n",
        "\n",
        "**{date}**"
      ]
    },
    {
      "cell_type": "code",
      "metadata": {
        "id": "OFGPKomw-cXR",
        "colab": {
          "base_uri": "https://localhost:8080/"
        },
        "outputId": "9c952699-7805-433e-b6e0-517374824dd4"
      },
      "source": [
        "# Enter your code here\n",
        "date_today = input(\"Enter today's date (YYYY-MM-DD): \")\n",
        "print(date_today)\n"
      ],
      "execution_count": 6,
      "outputs": [
        {
          "output_type": "stream",
          "name": "stdout",
          "text": [
            "Enter today's date (YYYY-MM-DD): 2025-01-19\n",
            "2025-01-19\n"
          ]
        }
      ]
    },
    {
      "cell_type": "markdown",
      "metadata": {
        "id": "7Ysdu7UJ_qf8"
      },
      "source": [
        "**Congratulations! You finished Assignment 1 and completed Module 1!**"
      ]
    }
  ]
}