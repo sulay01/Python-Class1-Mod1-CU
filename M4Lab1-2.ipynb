{
  "nbformat": 4,
  "nbformat_minor": 0,
  "metadata": {
    "colab": {
      "provenance": [],
      "toc_visible": true
    },
    "kernelspec": {
      "name": "python3",
      "display_name": "Python 3"
    },
    "language_info": {
      "name": "python"
    }
  },
  "cells": [
    {
      "cell_type": "markdown",
      "metadata": {
        "id": "cnAUJprJdh9_"
      },
      "source": [
        "# Welcome to our Lab Practice!"
      ]
    },
    {
      "cell_type": "markdown",
      "metadata": {
        "id": "vVYcayGedmms"
      },
      "source": [
        "This lab is about repetition - while loops. Are you ready? Let's get started!"
      ]
    },
    {
      "cell_type": "markdown",
      "metadata": {
        "id": "JP8eGBVyeSQx"
      },
      "source": [
        "You will find some small tasks in sections below."
      ]
    },
    {
      "cell_type": "markdown",
      "metadata": {
        "id": "EZ42d1Sue0Zp"
      },
      "source": [
        "###Task: Print all integers from -5 to 5.\n"
      ]
    },
    {
      "cell_type": "code",
      "metadata": {
        "id": "yDzNIHsSeu85",
        "colab": {
          "base_uri": "https://localhost:8080/"
        },
        "outputId": "c3c9d204-2f2d-4950-8f67-ca9bbf039dcf"
      },
      "source": [
        "# Print all integers from -5 to 5\n",
        "num = -5\n",
        "while num <= 5:\n",
        "    print(num)\n",
        "    num += 1\n"
      ],
      "execution_count": 1,
      "outputs": [
        {
          "output_type": "stream",
          "name": "stdout",
          "text": [
            "-5\n",
            "-4\n",
            "-3\n",
            "-2\n",
            "-1\n",
            "0\n",
            "1\n",
            "2\n",
            "3\n",
            "4\n",
            "5\n"
          ]
        }
      ]
    },
    {
      "cell_type": "markdown",
      "metadata": {
        "id": "u8WEYfEqIbWX"
      },
      "source": [
        "###Task: Print all integers of an interval given by the user\n",
        "\n",
        "Ask the user to enter two integers and print all integers between (including) them."
      ]
    },
    {
      "cell_type": "code",
      "metadata": {
        "id": "LKSmcHRRJUYY",
        "colab": {
          "base_uri": "https://localhost:8080/"
        },
        "outputId": "317bbda1-cd1b-491e-e030-cb01ca399cbe"
      },
      "source": [
        "# Ask the user to enter two integers and print all integers between them\n",
        "start = int(input(\"Enter the starting integer: \"))\n",
        "end = int(input(\"Enter the ending integer: \"))\n",
        "\n",
        "while start <= end:\n",
        "    print(start)\n",
        "    start += 1\n"
      ],
      "execution_count": 3,
      "outputs": [
        {
          "output_type": "stream",
          "name": "stdout",
          "text": [
            "Enter the starting integer: -3\n",
            "Enter the ending integer: 5\n",
            "-3\n",
            "-2\n",
            "-1\n",
            "0\n",
            "1\n",
            "2\n",
            "3\n",
            "4\n",
            "5\n"
          ]
        }
      ]
    },
    {
      "cell_type": "markdown",
      "metadata": {
        "id": "-__o8ovbfSEH"
      },
      "source": [
        "###Task: Double The Number\n",
        "\n",
        "Step 1: Ask the user to enter a small positive number (0 - 10)\n",
        "\n",
        "Step 2: Double the number, print it out, and repeat, until the number beyond 1,000,000\n",
        "\n",
        "(How fast the number is growing)"
      ]
    },
    {
      "cell_type": "code",
      "metadata": {
        "id": "hOpxhSKog18Y",
        "colab": {
          "base_uri": "https://localhost:8080/"
        },
        "outputId": "c15cfeab-5740-480a-d05d-8898be5aefb6"
      },
      "source": [
        "# Ask the user to enter a small positive number and double it until it exceeds 1,000,000\n",
        "num = int(input(\"Enter a small positive number (0 - 10): \"))\n",
        "\n",
        "while num <= 1_000_000:\n",
        "    print(num)\n",
        "    num *= 2\n"
      ],
      "execution_count": 4,
      "outputs": [
        {
          "output_type": "stream",
          "name": "stdout",
          "text": [
            "Enter a small positive number (0 - 10): 3\n",
            "3\n",
            "6\n",
            "12\n",
            "24\n",
            "48\n",
            "96\n",
            "192\n",
            "384\n",
            "768\n",
            "1536\n",
            "3072\n",
            "6144\n",
            "12288\n",
            "24576\n",
            "49152\n",
            "98304\n",
            "196608\n",
            "393216\n",
            "786432\n"
          ]
        }
      ]
    },
    {
      "cell_type": "markdown",
      "metadata": {
        "id": "uZYVZQIvIlPy"
      },
      "source": [
        "###Task: Keep asking for candy until 'STOP'  \n",
        "\n",
        "Step1: Ask the user to enter anything\n",
        "\n",
        "Step2: print a message 'Thanks! I got a candy'\n",
        "\n",
        "Step3: Repeat Step 1 and 2, until the user enter 'Done'\n",
        "\n",
        "Step4: print a message 'Thanks! I have enough.'"
      ]
    },
    {
      "cell_type": "code",
      "metadata": {
        "id": "Y_3dcyvcQ2GI",
        "colab": {
          "base_uri": "https://localhost:8080/"
        },
        "outputId": "5fe7cfd1-d417-4b87-b235-b2a40b82179c"
      },
      "source": [
        "# Keep asking for input until the user enters 'Done'\n",
        "while True:\n",
        "    user_input = input(\"Enter anything: \")\n",
        "    if user_input.lower() == \"done\":\n",
        "        print(\"Thanks! I have enough.\")\n",
        "        break\n",
        "    else:\n",
        "        print(\"Thanks! I got a candy.\")\n"
      ],
      "execution_count": 5,
      "outputs": [
        {
          "output_type": "stream",
          "name": "stdout",
          "text": [
            "Enter anything: I LOVE PYTHON\n",
            "Thanks! I got a candy.\n",
            "Enter anything: HELLO\n",
            "Thanks! I got a candy.\n",
            "Enter anything: WORLD\n",
            "Thanks! I got a candy.\n",
            "Enter anything: I love python\n",
            "Thanks! I got a candy.\n",
            "Enter anything: hello\n",
            "Thanks! I got a candy.\n",
            "Enter anything: done\n",
            "Thanks! I have enough.\n"
          ]
        }
      ]
    },
    {
      "cell_type": "markdown",
      "metadata": {
        "id": "qKFwdIypmt5J"
      },
      "source": [
        "### Task: Password Setup\n",
        "\n",
        "*   Ask the user to enter a new password.\n",
        "*   Ask the user to enter the password again.\n",
        "*   If the second input matches the first one, print \"You are all set\", otherwise, repeat the process.\n"
      ]
    },
    {
      "cell_type": "code",
      "metadata": {
        "id": "6pqvFtl8nHei",
        "colab": {
          "base_uri": "https://localhost:8080/"
        },
        "outputId": "7911c73c-494a-4b58-e33e-7e4005dcc958"
      },
      "source": [
        "# Ask the user to enter a password and confirm it\n",
        "while True:\n",
        "    password = input(\"Enter a new password: \")\n",
        "    confirm_password = input(\"Re-enter the password: \")\n",
        "\n",
        "    if password == confirm_password:\n",
        "        print(\"You are all set!\")\n",
        "        break\n",
        "    else:\n",
        "        print(\"Passwords do not match. Try again.\")\n"
      ],
      "execution_count": 6,
      "outputs": [
        {
          "output_type": "stream",
          "name": "stdout",
          "text": [
            "Enter a new password: coco chanel\n",
            "Re-enter the password: gucci\n",
            "Passwords do not match. Try again.\n",
            "Enter a new password: coco chanel\n",
            "Re-enter the password: coco chanel\n",
            "You are all set!\n"
          ]
        }
      ]
    }
  ]
}