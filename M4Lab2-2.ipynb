{
  "nbformat": 4,
  "nbformat_minor": 0,
  "metadata": {
    "colab": {
      "provenance": [],
      "toc_visible": true
    },
    "kernelspec": {
      "name": "python3",
      "display_name": "Python 3"
    },
    "language_info": {
      "name": "python"
    }
  },
  "cells": [
    {
      "cell_type": "markdown",
      "metadata": {
        "id": "cnAUJprJdh9_"
      },
      "source": [
        "# Welcome to our Lab Practice!"
      ]
    },
    {
      "cell_type": "markdown",
      "metadata": {
        "id": "vVYcayGedmms"
      },
      "source": [
        "This lab is about repetition - for loops. Are you ready? Let's get started!"
      ]
    },
    {
      "cell_type": "markdown",
      "metadata": {
        "id": "JP8eGBVyeSQx"
      },
      "source": [
        "You will find some small tasks in sections below."
      ]
    },
    {
      "cell_type": "markdown",
      "metadata": {
        "id": "dgugXiakzLOB"
      },
      "source": [
        "###Task: Print all even numbers within 20"
      ]
    },
    {
      "cell_type": "code",
      "metadata": {
        "id": "KGdX6n3ZzRtb",
        "colab": {
          "base_uri": "https://localhost:8080/"
        },
        "outputId": "8e45b170-8f2e-41f5-f651-2d0d4e7ca8f9"
      },
      "source": [
        "# Print all even numbers within 20\n",
        "for num in range(0, 21, 2):  # Starts from 0, goes up to 20, with a step of 2\n",
        "    print(num)\n"
      ],
      "execution_count": 1,
      "outputs": [
        {
          "output_type": "stream",
          "name": "stdout",
          "text": [
            "0\n",
            "2\n",
            "4\n",
            "6\n",
            "8\n",
            "10\n",
            "12\n",
            "14\n",
            "16\n",
            "18\n",
            "20\n"
          ]
        }
      ]
    },
    {
      "cell_type": "markdown",
      "metadata": {
        "id": "qnE0ig4zzWGU"
      },
      "source": [
        "### Task: Print all numbers dividble by 5 within 100"
      ]
    },
    {
      "cell_type": "code",
      "metadata": {
        "id": "pzHVe6FFzfH_",
        "colab": {
          "base_uri": "https://localhost:8080/"
        },
        "outputId": "54cdd752-4a52-41d4-edf4-6c8237808037"
      },
      "source": [
        "# Print all numbers divisible by 5 within 100\n",
        "for num in range(0, 101, 5):  # Starts from 0, goes up to 100, with a step of 5\n",
        "    print(num)\n"
      ],
      "execution_count": 2,
      "outputs": [
        {
          "output_type": "stream",
          "name": "stdout",
          "text": [
            "0\n",
            "5\n",
            "10\n",
            "15\n",
            "20\n",
            "25\n",
            "30\n",
            "35\n",
            "40\n",
            "45\n",
            "50\n",
            "55\n",
            "60\n",
            "65\n",
            "70\n",
            "75\n",
            "80\n",
            "85\n",
            "90\n",
            "95\n",
            "100\n"
          ]
        }
      ]
    },
    {
      "cell_type": "markdown",
      "metadata": {
        "id": "EZ42d1Sue0Zp"
      },
      "source": [
        "###Task: Print all integers from -5 to 5.\n"
      ]
    },
    {
      "cell_type": "code",
      "metadata": {
        "id": "yDzNIHsSeu85",
        "colab": {
          "base_uri": "https://localhost:8080/"
        },
        "outputId": "57ac12fa-7126-480d-cf5e-b3b11ecb6310"
      },
      "source": [
        "# Print all integers from -5 to 5\n",
        "for num in range(-5, 6):  # Starts at -5, goes up to 5\n",
        "    print(num)\n"
      ],
      "execution_count": 3,
      "outputs": [
        {
          "output_type": "stream",
          "name": "stdout",
          "text": [
            "-5\n",
            "-4\n",
            "-3\n",
            "-2\n",
            "-1\n",
            "0\n",
            "1\n",
            "2\n",
            "3\n",
            "4\n",
            "5\n"
          ]
        }
      ]
    },
    {
      "cell_type": "markdown",
      "metadata": {
        "id": "u8WEYfEqIbWX"
      },
      "source": [
        "###Task: Print all integers of an interval given by the user\n",
        "\n",
        "Ask the user to enter two integers and print all integers between (including) them."
      ]
    },
    {
      "cell_type": "code",
      "metadata": {
        "id": "LKSmcHRRJUYY",
        "colab": {
          "base_uri": "https://localhost:8080/"
        },
        "outputId": "9044a0c7-cf52-410f-a9c1-4c613cdf09c0"
      },
      "source": [
        "# Ask the user to enter two integers and print all integers between them (including both)\n",
        "start = int(input(\"Enter the starting integer: \"))\n",
        "end = int(input(\"Enter the ending integer: \"))\n",
        "\n",
        "for num in range(start, end + 1):  # Includes both start and end\n",
        "    print(num)\n"
      ],
      "execution_count": 4,
      "outputs": [
        {
          "output_type": "stream",
          "name": "stdout",
          "text": [
            "Enter the starting integer: -3\n",
            "Enter the ending integer: 5\n",
            "-3\n",
            "-2\n",
            "-1\n",
            "0\n",
            "1\n",
            "2\n",
            "3\n",
            "4\n",
            "5\n"
          ]
        }
      ]
    }
  ]
}