{
  "nbformat": 4,
  "nbformat_minor": 0,
  "metadata": {
    "colab": {
      "provenance": []
    },
    "kernelspec": {
      "name": "python3",
      "display_name": "Python 3"
    },
    "language_info": {
      "name": "python"
    }
  },
  "cells": [
    {
      "cell_type": "markdown",
      "metadata": {
        "id": "cnAUJprJdh9_"
      },
      "source": [
        "# Welcome to our Lab Practice!"
      ]
    },
    {
      "cell_type": "markdown",
      "metadata": {
        "id": "vVYcayGedmms"
      },
      "source": [
        "This lab is all about **input()** and we are going to get all kinds of information from the user (you) and print the respnose on the screen. Are you ready? Let's get started!"
      ]
    },
    {
      "cell_type": "markdown",
      "metadata": {
        "id": "JP8eGBVyeSQx"
      },
      "source": [
        "You will find some small tasks in sections below. You should use input() to get the user to enter the information and use print() to print the information on the screen."
      ]
    },
    {
      "cell_type": "markdown",
      "metadata": {
        "id": "TNbXeCDFeAcJ"
      },
      "source": [
        "## Ask for names"
      ]
    },
    {
      "cell_type": "markdown",
      "metadata": {
        "id": "EZ42d1Sue0Zp"
      },
      "source": [
        "###Task: Ask **\"What's your name?\"** and print the input on the screen"
      ]
    },
    {
      "cell_type": "code",
      "metadata": {
        "id": "yDzNIHsSeu85",
        "colab": {
          "base_uri": "https://localhost:8080/"
        },
        "outputId": "47cd75bc-8d7b-4e56-b00e-8bb0ea5cee19"
      },
      "source": [
        "# Task: Ask \"What's your name?\" and print the input on the screen\n",
        "name = input(\"What's your name? \")\n",
        "print(\"Your name is:\", name)\n"
      ],
      "execution_count": 2,
      "outputs": [
        {
          "output_type": "stream",
          "name": "stdout",
          "text": [
            "What's your name? Sulay\n",
            "Your name is: Sulay\n"
          ]
        }
      ]
    },
    {
      "cell_type": "markdown",
      "metadata": {
        "id": "-__o8ovbfSEH"
      },
      "source": [
        "###Task: Ask **\"How do you feel so far? Enter 1 for Good; 2 for very good.\"** and print the input on the screen"
      ]
    },
    {
      "cell_type": "code",
      "metadata": {
        "id": "hOpxhSKog18Y",
        "colab": {
          "base_uri": "https://localhost:8080/"
        },
        "outputId": "28bda3a9-15b3-4d17-a134-9cdbe4b6e4ce"
      },
      "source": [
        "# Task: Ask \"How do you feel so far? Enter 1 for Good; 2 for very good.\" and print the input on the screen\n",
        "feeling = input(\"How do you feel so far? Enter 1 for Good; 2 for very good. \")\n",
        "print(\"You feel:\", feeling)\n"
      ],
      "execution_count": 3,
      "outputs": [
        {
          "output_type": "stream",
          "name": "stdout",
          "text": [
            "How do you feel so far? Enter 1 for Good; 2 for very good. 2\n",
            "You feel: 2\n"
          ]
        }
      ]
    },
    {
      "cell_type": "markdown",
      "metadata": {
        "id": "NpCNxK68gpME"
      },
      "source": [
        "###Task: Ask **\"Are you ready to learn more? Enter Yes or No.\"** and print the input on the screen"
      ]
    },
    {
      "cell_type": "code",
      "metadata": {
        "id": "txg-7uKfgKeW",
        "colab": {
          "base_uri": "https://localhost:8080/"
        },
        "outputId": "7a277d86-0809-4bd3-c0b8-e0fc9e551a55"
      },
      "source": [
        "# Task: Ask \"Are you ready to learn more? Enter Yes or No.\" and print the input on the screen\n",
        "ready = input(\"Are you ready to learn more? Enter Yes or No. \")\n",
        "print(\"Your response:\", ready)\n"
      ],
      "execution_count": 4,
      "outputs": [
        {
          "output_type": "stream",
          "name": "stdout",
          "text": [
            "Are you ready to learn more? Enter Yes or No. Yes\n",
            "Your response: Yes\n"
          ]
        }
      ]
    },
    {
      "cell_type": "markdown",
      "metadata": {
        "id": "D8pWdoN7d6Dy"
      },
      "source": [
        "## Ask for numbers"
      ]
    },
    {
      "cell_type": "markdown",
      "metadata": {
        "id": "rXgbUIBRgQoG"
      },
      "source": [
        "###Task: Ask **\"How old are you?\"** and print the input on the screen"
      ]
    },
    {
      "cell_type": "code",
      "metadata": {
        "id": "oIKwmW2mfe3d",
        "colab": {
          "base_uri": "https://localhost:8080/"
        },
        "outputId": "420a2fb8-6c9e-473f-f097-3424938fbcfa"
      },
      "source": [
        "# Task: Ask \"How old are you?\" and print the input on the screen\n",
        "age = input(\"How old are you? \")\n",
        "print(\"Your age is:\", age)\n"
      ],
      "execution_count": 5,
      "outputs": [
        {
          "output_type": "stream",
          "name": "stdout",
          "text": [
            "How old are you? secret\n",
            "Your age is: secret\n"
          ]
        }
      ]
    },
    {
      "cell_type": "markdown",
      "metadata": {
        "id": "QPoCScdkheK3"
      },
      "source": [
        "###Task: Ask **\"Which number is your lucky number?\"** and print the input on the screen"
      ]
    },
    {
      "cell_type": "code",
      "metadata": {
        "id": "tsFowDAKhJCB",
        "colab": {
          "base_uri": "https://localhost:8080/"
        },
        "outputId": "07f297cb-d3ec-42e1-c7bd-51e8220278b3"
      },
      "source": [
        "# Task: Ask \"Which number is your lucky number?\" and print the input on the screen\n",
        "lucky_number = input(\"Which number is your lucky number? \")\n",
        "print(\"Your lucky number is:\", lucky_number)\n"
      ],
      "execution_count": 6,
      "outputs": [
        {
          "output_type": "stream",
          "name": "stdout",
          "text": [
            "Which number is your lucky number? 1111\n",
            "Your lucky number is: 1111\n"
          ]
        }
      ]
    },
    {
      "cell_type": "markdown",
      "metadata": {
        "id": "TE6Df1WYhu10"
      },
      "source": [
        "###Task: Ask **\"What date is today? yyyymmdd\"** and print the input on the screen"
      ]
    },
    {
      "cell_type": "code",
      "metadata": {
        "id": "MSjQbhNXhJVV",
        "colab": {
          "base_uri": "https://localhost:8080/"
        },
        "outputId": "c8eec108-9543-4707-ad05-7b6bf52d74f5"
      },
      "source": [
        "# Task: Ask \"What date is today? yyyymmdd\" and print the input on the screen\n",
        "date_today = input(\"What date is today? yyyymmdd \")\n",
        "print(\"Today's date is:\", date_today)\n"
      ],
      "execution_count": 9,
      "outputs": [
        {
          "output_type": "stream",
          "name": "stdout",
          "text": [
            "What date is today? yyyymmdd 20250119\n",
            "Today's date is: 20250119\n"
          ]
        }
      ]
    }
  ]
}