{
  "nbformat": 4,
  "nbformat_minor": 0,
  "metadata": {
    "colab": {
      "provenance": [],
      "toc_visible": true
    },
    "kernelspec": {
      "name": "python3",
      "display_name": "Python 3"
    },
    "language_info": {
      "name": "python"
    }
  },
  "cells": [
    {
      "cell_type": "markdown",
      "metadata": {
        "id": "cnAUJprJdh9_"
      },
      "source": [
        "# Welcome to our Lab Practice!"
      ]
    },
    {
      "cell_type": "markdown",
      "metadata": {
        "id": "vVYcayGedmms"
      },
      "source": [
        "This lab is about branching - if-else statements. Are you ready? Let's get started!"
      ]
    },
    {
      "cell_type": "markdown",
      "metadata": {
        "id": "JP8eGBVyeSQx"
      },
      "source": [
        "You will find some small tasks in sections below."
      ]
    },
    {
      "cell_type": "markdown",
      "metadata": {
        "id": "EZ42d1Sue0Zp"
      },
      "source": [
        "###Task: Check if the weather is good for hiking.\n",
        "\n",
        "You should ask the user to enter a float value as the temporature in Fahrenheit.\n",
        "*   If the temporature is within [60, 80], print \"Perfect\";\n",
        "*   otherwise, print \"Not that good\"."
      ]
    },
    {
      "cell_type": "code",
      "metadata": {
        "id": "yDzNIHsSeu85",
        "colab": {
          "base_uri": "https://localhost:8080/"
        },
        "outputId": "72f90355-1abb-4dc5-8b97-7d58940f62d8"
      },
      "source": [
        "# Check if a number is even or odd\n",
        "number = int(input(\"Enter a number: \"))\n",
        "if number % 2 == 0:\n",
        "    print(f\"{number} is even.\")\n",
        "else:\n",
        "    print(f\"{number} is odd.\")\n"
      ],
      "execution_count": 1,
      "outputs": [
        {
          "output_type": "stream",
          "name": "stdout",
          "text": [
            "Enter a number: 9\n",
            "9 is odd.\n"
          ]
        }
      ]
    },
    {
      "cell_type": "markdown",
      "metadata": {
        "id": "u8WEYfEqIbWX"
      },
      "source": [
        "###Task: Check if the user feels happy\n",
        "\n",
        "You should ask the user \"Are you happy now?\".\n",
        "*   If the user enters \"Yes\", print \"Fantastic!\"\n",
        "*   otherwise, print \"How can I help?\""
      ]
    },
    {
      "cell_type": "code",
      "metadata": {
        "id": "LKSmcHRRJUYY",
        "colab": {
          "base_uri": "https://localhost:8080/"
        },
        "outputId": "5172c536-808b-49d6-d9f4-b9b972591bb1"
      },
      "source": [
        "# Check if a number is positive, negative, or zero\n",
        "num = float(input(\"Enter a number: \"))\n",
        "if num > 0:\n",
        "    print(\"The number is positive.\")\n",
        "elif num < 0:\n",
        "    print(\"The number is negative.\")\n",
        "else:\n",
        "    print(\"The number is zero.\")\n"
      ],
      "execution_count": 2,
      "outputs": [
        {
          "output_type": "stream",
          "name": "stdout",
          "text": [
            "Enter a number: 3\n",
            "The number is positive.\n"
          ]
        }
      ]
    },
    {
      "cell_type": "markdown",
      "metadata": {
        "id": "-__o8ovbfSEH"
      },
      "source": [
        "###Task: check if your plants need water\n",
        "\n",
        "You should ask the user to enter an integer indicating the level of moisture of the soil (from 1: super dry; to 10: super wet).\n",
        "\n",
        "*   If the level is below 3, print \"Yes, you should water your plants now\"\n",
        "*   otherwise, print \"No. Wait for the soil to be dryer\"."
      ]
    },
    {
      "cell_type": "code",
      "metadata": {
        "id": "hOpxhSKog18Y",
        "colab": {
          "base_uri": "https://localhost:8080/"
        },
        "outputId": "dfa40414-d9bc-4606-e173-59e19c164e83"
      },
      "source": [
        "# Find the largest among three numbers\n",
        "a = float(input(\"Enter first number: \"))\n",
        "b = float(input(\"Enter second number: \"))\n",
        "c = float(input(\"Enter third number: \"))\n",
        "\n",
        "if a >= b and a >= c:\n",
        "    print(f\"The largest number is {a}\")\n",
        "elif b >= a and b >= c:\n",
        "    print(f\"The largest number is {b}\")\n",
        "else:\n",
        "    print(f\"The largest number is {c}\")\n"
      ],
      "execution_count": 3,
      "outputs": [
        {
          "output_type": "stream",
          "name": "stdout",
          "text": [
            "Enter first number: 45\n",
            "Enter second number: 29\n",
            "Enter third number: 67\n",
            "The largest number is 67.0\n"
          ]
        }
      ]
    },
    {
      "cell_type": "markdown",
      "metadata": {
        "id": "8fGRh5FviHXB"
      },
      "source": [
        "###Task: check if a student finished Lab2\n",
        "\n",
        "At first, ask the user: \"Do you care about your learning outcome?\"\n",
        "\n",
        "*    If yes, ask the user \"Have your finished M3Lab2?\"\n",
        "**    if yes, print \"Good job!\"\n",
        "**    If no, print \"Get it done ASAP!!!!!!\"\n",
        "*    If no, then print \"As long as you are happy.\""
      ]
    },
    {
      "cell_type": "code",
      "metadata": {
        "id": "OSnp3ZYuiiUj",
        "colab": {
          "base_uri": "https://localhost:8080/"
        },
        "outputId": "c64ee105-8d86-47ba-daa9-85417a556778"
      },
      "source": [
        "# Check if a year is a leap year\n",
        "year = int(input(\"Enter a year: \"))\n",
        "\n",
        "if (year % 4 == 0 and year % 100 != 0) or (year % 400 == 0):\n",
        "    print(f\"{year} is a leap year.\")\n",
        "else:\n",
        "    print(f\"{year} is not a leap year.\")\n"
      ],
      "execution_count": 4,
      "outputs": [
        {
          "output_type": "stream",
          "name": "stdout",
          "text": [
            "Enter a year: 2023\n",
            "2023 is not a leap year.\n"
          ]
        }
      ]
    }
  ]
}