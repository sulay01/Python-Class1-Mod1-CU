{
  "nbformat": 4,
  "nbformat_minor": 0,
  "metadata": {
    "colab": {
      "provenance": [],
      "toc_visible": true
    },
    "kernelspec": {
      "name": "python3",
      "display_name": "Python 3"
    },
    "language_info": {
      "name": "python"
    }
  },
  "cells": [
    {
      "cell_type": "markdown",
      "metadata": {
        "id": "cnAUJprJdh9_"
      },
      "source": [
        "# Welcome to our Lab Practice!"
      ]
    },
    {
      "cell_type": "markdown",
      "metadata": {
        "id": "vVYcayGedmms"
      },
      "source": [
        "This lab is about arithmetic operations, more assignemnt operations from input(). Are you ready? Let's get started!"
      ]
    },
    {
      "cell_type": "markdown",
      "metadata": {
        "id": "JP8eGBVyeSQx"
      },
      "source": [
        "You will find some small tasks in sections below."
      ]
    },
    {
      "cell_type": "markdown",
      "metadata": {
        "id": "TNbXeCDFeAcJ"
      },
      "source": [
        "## Arithmetic Operation\n",
        "\n",
        "In this section, you are going to code and run arithmetic operations of two numbers.\n",
        "\n",
        "Hint: to print out the equation, we can use the print() to print multiple values out.\n",
        "\n",
        "For example, print(x, 'operator', y, '=', x operator y) for an operator."
      ]
    },
    {
      "cell_type": "markdown",
      "metadata": {
        "id": "hhAeaPrjTLRT"
      },
      "source": [
        "###Task: Get some computation.\n",
        "\n",
        "1.   Assign x with 2, y with 3.\n",
        "2.   print out the equation and result of\n",
        "  1.   x + y\n",
        "  2.   x - y\n",
        "  3.   x * y\n",
        "  4.   x / y\n",
        "  5.   x // y\n",
        "  6.   x ** y\n",
        "  7.   x % y\n",
        "\n",
        "\n",
        "\n"
      ]
    },
    {
      "cell_type": "code",
      "metadata": {
        "id": "v4jLx-_gTIFA",
        "colab": {
          "base_uri": "https://localhost:8080/"
        },
        "outputId": "9fc97533-89d6-4c32-dcc4-d7841bb5cfcf"
      },
      "source": [
        "# Assign values\n",
        "x = 2\n",
        "y = 3\n",
        "\n",
        "# Perform arithmetic operations and print results\n",
        "print(x, '+', y, '=', x + y)\n",
        "print(x, '-', y, '=', x - y)\n",
        "print(x, '*', y, '=', x * y)\n",
        "print(x, '/', y, '=', x / y)\n",
        "print(x, '//', y, '=', x // y)\n",
        "print(x, '**', y, '=', x ** y)\n",
        "print(x, '%', y, '=', x % y)\n"
      ],
      "execution_count": 1,
      "outputs": [
        {
          "output_type": "stream",
          "name": "stdout",
          "text": [
            "2 + 3 = 5\n",
            "2 - 3 = -1\n",
            "2 * 3 = 6\n",
            "2 / 3 = 0.6666666666666666\n",
            "2 // 3 = 0\n",
            "2 ** 3 = 8\n",
            "2 % 3 = 2\n"
          ]
        }
      ]
    },
    {
      "cell_type": "markdown",
      "metadata": {
        "id": "TEHPJ_CpUuOv"
      },
      "source": [
        "###Task: Get some other computation.\n",
        "\n",
        "1.   Assign x with a value you like, y with another value you like.\n",
        "2.   print out the equation and result of\n",
        "  1.   x + y\n",
        "  2.   x - y\n",
        "  3.   x * y\n",
        "  4.   x / y\n",
        "  5.   x // y\n",
        "  6.   x ** y\n",
        "  7.   x % y\n",
        "3.   Are there some value that will crash your program? Why?"
      ]
    },
    {
      "cell_type": "code",
      "metadata": {
        "id": "e4UI_UJpU-7q",
        "colab": {
          "base_uri": "https://localhost:8080/"
        },
        "outputId": "332c5c97-9b2d-4732-b064-6db1533b80ff"
      },
      "source": [
        "# Assign custom values\n",
        "x = 7  # Change to any value you like\n",
        "y = 4  # Change to any value you like\n",
        "\n",
        "# Perform arithmetic operations and print results\n",
        "print(x, '+', y, '=', x + y)\n",
        "print(x, '-', y, '=', x - y)\n",
        "print(x, '*', y, '=', x * y)\n",
        "print(x, '/', y, '=', x / y)\n",
        "print(x, '//', y, '=', x // y)\n",
        "print(x, '**', y, '=', x ** y)\n",
        "print(x, '%', y, '=', x % y)\n",
        "\n",
        "# Potential crash scenario explanation\n",
        "print(\"\\nPotential Crash Explanation:\")\n",
        "print(\"If y is set to 0, division operations like x / y and x // y will cause a ZeroDivisionError.\")\n",
        "\n"
      ],
      "execution_count": 2,
      "outputs": [
        {
          "output_type": "stream",
          "name": "stdout",
          "text": [
            "7 + 4 = 11\n",
            "7 - 4 = 3\n",
            "7 * 4 = 28\n",
            "7 / 4 = 1.75\n",
            "7 // 4 = 1\n",
            "7 ** 4 = 2401\n",
            "7 % 4 = 3\n",
            "\n",
            "Potential Crash Explanation:\n",
            "If y is set to 0, division operations like x / y and x // y will cause a ZeroDivisionError.\n"
          ]
        }
      ]
    },
    {
      "cell_type": "markdown",
      "metadata": {
        "id": "D8pWdoN7d6Dy"
      },
      "source": [
        "## Get Inputs from Users"
      ]
    },
    {
      "cell_type": "markdown",
      "metadata": {
        "id": "EZ42d1Sue0Zp"
      },
      "source": [
        "###Task: Help the User\n",
        "\n",
        "1.   Ask the user to enter an integer, convert and assign it to x;\n",
        "2.   Ask the user to enter another integer, convert and assign it to y;\n",
        "3.   print out the equation and result of\n",
        "  1.   x + y\n",
        "  2.   x - y\n",
        "  3.   x * y\n",
        "  4.   x / y\n",
        "  5.   x // y\n",
        "  6.   x ** y\n",
        "  7.   x % y\n",
        "3.   Are there some value that will crash your program? Why?\n"
      ]
    },
    {
      "cell_type": "code",
      "metadata": {
        "id": "yDzNIHsSeu85",
        "colab": {
          "base_uri": "https://localhost:8080/"
        },
        "outputId": "25ed12f0-de6b-4962-d496-5e873ffc1a2e"
      },
      "source": [
        "# Get inputs from users\n",
        "x = int(input(\"Enter an integer for x: \"))\n",
        "y = int(input(\"Enter an integer for y: \"))\n",
        "\n",
        "# Perform arithmetic operations and print results\n",
        "print(x, '+', y, '=', x + y)\n",
        "print(x, '-', y, '=', x - y)\n",
        "print(x, '*', y, '=', x * y)\n",
        "\n",
        "# Handle potential division by zero error\n",
        "if y != 0:\n",
        "    print(x, '/', y, '=', x / y)\n",
        "    print(x, '//', y, '=', x // y)\n",
        "    print(x, '%', y, '=', x % y)\n",
        "else:\n",
        "    print(\"Division by zero is not allowed.\")\n",
        "\n",
        "print(x, '**', y, '=', x ** y)\n"
      ],
      "execution_count": 3,
      "outputs": [
        {
          "output_type": "stream",
          "name": "stdout",
          "text": [
            "Enter an integer for x: 5\n",
            "Enter an integer for y: 3\n",
            "5 + 3 = 8\n",
            "5 - 3 = 2\n",
            "5 * 3 = 15\n",
            "5 / 3 = 1.6666666666666667\n",
            "5 // 3 = 1\n",
            "5 % 3 = 2\n",
            "5 ** 3 = 125\n"
          ]
        }
      ]
    }
  ]
}