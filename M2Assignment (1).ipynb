{
  "nbformat": 4,
  "nbformat_minor": 0,
  "metadata": {
    "colab": {
      "provenance": [],
      "toc_visible": true
    },
    "kernelspec": {
      "name": "python3",
      "display_name": "Python 3"
    },
    "language_info": {
      "name": "python"
    }
  },
  "cells": [
    {
      "cell_type": "markdown",
      "metadata": {
        "id": "cnAUJprJdh9_"
      },
      "source": [
        "# Welcome to our second assignment!"
      ]
    },
    {
      "cell_type": "markdown",
      "metadata": {
        "id": "vVYcayGedmms"
      },
      "source": [
        "This assignment is about testing your understanding of variables and operations.\n",
        "\n",
        "We are going to create some simple programs using these tools. Are you ready? Let's get started!"
      ]
    },
    {
      "cell_type": "markdown",
      "metadata": {
        "id": "JP8eGBVyeSQx"
      },
      "source": [
        "You will find some small tasks in sections below. You should use input() to get the user to enter the information and use print() to print the information on the screen. At this moment, we can assume users will follow instructions carefully - they will enter the valid inputs as required."
      ]
    },
    {
      "cell_type": "markdown",
      "metadata": {
        "id": "TNbXeCDFeAcJ"
      },
      "source": [
        "## Simple check out\n",
        "\n",
        "###Instruction: You are going to program a super simple check-out system for a store. This store has an interesting rule that every customer can only buy one product (the quantity of the product is not limited) in one order.\n",
        "\n",
        "step1: Ask the user to enter the price / unit of the product (it should be a float)\n",
        "\n",
        "step2: Ask the user to enter the quantity of the product (it should be an integer)\n",
        "\n",
        "step3: We have a sales tax at 6.25%\n",
        "\n",
        "step4: Calculate and display the total amount of this order (for example, 59.25)\n",
        "\n",
        "step5: Ask the user to enter the amount of bills paid (for example, 60)\n",
        "\n",
        "step6: Calculate and display the change (for example, 0.75)"
      ]
    },
    {
      "cell_type": "code",
      "metadata": {
        "id": "x6IbZ6rFw76O",
        "colab": {
          "base_uri": "https://localhost:8080/"
        },
        "outputId": "9fc69b5a-e5c6-4990-e043-4124f7368649"
      },
      "source": [
        "# Simple check-out system\n",
        "\n",
        "# Step 1: Ask for price per unit of the product\n",
        "price_per_unit = float(input(\"Enter the price per unit of the product: \"))\n",
        "\n",
        "# Step 2: Ask for quantity\n",
        "quantity = int(input(\"Enter the quantity of the product: \"))\n",
        "\n",
        "# Step 3: Sales tax is 6.25%\n",
        "sales_tax_rate = 0.0625\n",
        "\n",
        "# Step 4: Calculate total amount including tax\n",
        "subtotal = price_per_unit * quantity\n",
        "total_amount = subtotal + (subtotal * sales_tax_rate)\n",
        "print(f\"The total amount of this order is: {total_amount:.2f}\")\n",
        "\n",
        "# Step 5: Ask for amount paid\n",
        "amount_paid = float(input(\"Enter the amount of bills paid: \"))\n",
        "\n",
        "# Step 6: Calculate and display change\n",
        "change = amount_paid - total_amount\n",
        "print(f\"The change to be given is: {change:.2f}\")\n"
      ],
      "execution_count": 2,
      "outputs": [
        {
          "output_type": "stream",
          "name": "stdout",
          "text": [
            "Enter the price per unit of the product: 5.99\n",
            "Enter the quantity of the product: 3\n",
            "The total amount of this order is: 19.09\n",
            "Enter the amount of bills paid: 50\n",
            "The change to be given is: 30.91\n"
          ]
        }
      ]
    },
    {
      "cell_type": "markdown",
      "metadata": {
        "id": "fZfiqg5lxFKF"
      },
      "source": [
        "## Tips Split\n",
        "\n",
        "###Instruction: You are going to program a super simple tip split system.\n",
        "\n",
        "step1: Ask the user to enter the total amount of meal before tax (it should be a float)\n",
        "\n",
        "step2: Ask the user to enter the number of people to split the tips (it should be an integer)\n",
        "\n",
        "step3: We have a sales tax at 6.25%, and we tip at 18%\n",
        "\n",
        "step4: Calculate and display the total amount due  (including tax and tips)\n",
        "\n",
        "step5: Calculate and display the amount each person should pay."
      ]
    },
    {
      "cell_type": "code",
      "metadata": {
        "id": "2bODNGPSx1-m",
        "colab": {
          "base_uri": "https://localhost:8080/"
        },
        "outputId": "1aadd882-048f-4f4c-de85-7d73f7c8c7ee"
      },
      "source": [
        "# Tip Split System\n",
        "\n",
        "# Step 1: Ask for total meal amount before tax\n",
        "meal_amount = float(input(\"Enter the total amount of meal before tax: \"))\n",
        "\n",
        "# Step 2: Ask for number of people splitting the bill\n",
        "num_people = int(input(\"Enter the number of people to split the tips: \"))\n",
        "\n",
        "# Step 3: Sales tax is 6.25% and tip is 18%\n",
        "sales_tax_rate = 0.0625\n",
        "tip_rate = 0.18\n",
        "\n",
        "# Step 4: Calculate total amount due (with tax and tip)\n",
        "tax_amount = meal_amount * sales_tax_rate\n",
        "tip_amount = meal_amount * tip_rate\n",
        "total_due = meal_amount + tax_amount + tip_amount\n",
        "print(f\"The total amount due (including tax and tip) is: {total_due:.2f}\")\n",
        "\n",
        "# Step 5: Calculate amount per person\n",
        "amount_per_person = total_due / num_people\n",
        "print(f\"Each person should pay: {amount_per_person:.2f}\")\n"
      ],
      "execution_count": 3,
      "outputs": [
        {
          "output_type": "stream",
          "name": "stdout",
          "text": [
            "Enter the total amount of meal before tax: 100\n",
            "Enter the number of people to split the tips: 4\n",
            "The total amount due (including tax and tip) is: 124.25\n",
            "Each person should pay: 31.06\n"
          ]
        }
      ]
    },
    {
      "cell_type": "markdown",
      "metadata": {
        "id": "cZmW-HnwyHcI"
      },
      "source": [
        "## Compound Interest\n",
        "\n",
        "###Instruction: You are going to program a super simple Compound Interest calcualtor.\n",
        "\n",
        "step1: Ask the user to enter the amount saving right now (it should be a float)\n",
        "\n",
        "step2: Ask the user to enter the number of years(it should be an integer)\n",
        "\n",
        "step3: Ask the user to enter the interest rate (it should be a float number, and 0.03 represents 3%)\n",
        "\n",
        "step4: Calculate and display the total amount after these years"
      ]
    },
    {
      "cell_type": "code",
      "metadata": {
        "id": "wk6FHvAvyr_G",
        "colab": {
          "base_uri": "https://localhost:8080/"
        },
        "outputId": "92806991-73e2-4a68-f9d5-1d910d8ccc51"
      },
      "source": [
        "# Compound Interest Calculator\n",
        "\n",
        "# Step 1: Ask for initial savings amount\n",
        "principal_amount = float(input(\"Enter the amount saving right now: \"))\n",
        "\n",
        "# Step 2: Ask for number of years\n",
        "years = int(input(\"Enter the number of years: \"))\n",
        "\n",
        "# Step 3: Ask for annual interest rate (e.g., 0.03 for 3%)\n",
        "interest_rate = float(input(\"Enter the interest rate (e.g., 0.03 for 3%): \"))\n",
        "\n",
        "# Step 4: Calculate total amount after the given years (A = P(1 + r)^t)\n",
        "total_amount = principal_amount * ((1 + interest_rate) ** years)\n",
        "print(f\"The total amount after {years} years is: {total_amount:.2f}\")\n"
      ],
      "execution_count": 4,
      "outputs": [
        {
          "output_type": "stream",
          "name": "stdout",
          "text": [
            "Enter the amount saving right now: 1000\n",
            "Enter the number of years: 5\n",
            "Enter the interest rate (e.g., 0.03 for 3%): 0.03\n",
            "The total amount after 5 years is: 1159.27\n"
          ]
        }
      ]
    },
    {
      "cell_type": "markdown",
      "metadata": {
        "id": "7Ysdu7UJ_qf8"
      },
      "source": [
        "**Congratulations! You finished this Assignment and completed Module 2!**"
      ]
    }
  ]
}